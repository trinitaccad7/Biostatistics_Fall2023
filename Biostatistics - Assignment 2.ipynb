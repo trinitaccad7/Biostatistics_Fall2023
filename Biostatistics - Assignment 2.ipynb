{
 "cells": [
  {
   "cell_type": "markdown",
   "id": "8128a858",
   "metadata": {},
   "source": [
    "# <font color=red> Start Session </font>"
   ]
  },
  {
   "cell_type": "markdown",
   "id": "352a8a87",
   "metadata": {},
   "source": [
    "#### Change Kernel to Python"
   ]
  },
  {
   "cell_type": "code",
   "execution_count": 1,
   "id": "90a0e67a",
   "metadata": {},
   "outputs": [
    {
     "data": {
      "text/plain": [
       "'C:\\\\Users\\\\trini\\\\Desktop\\\\Biostatistics\\\\Week2'"
      ]
     },
     "execution_count": 1,
     "metadata": {},
     "output_type": "execute_result"
    }
   ],
   "source": [
    "pwd"
   ]
  },
  {
   "cell_type": "code",
   "execution_count": 2,
   "id": "59d6d40b",
   "metadata": {},
   "outputs": [
    {
     "name": "stdout",
     "output_type": "stream",
     "text": [
      " Volume in drive C is Windows\n",
      " Volume Serial Number is 9CFF-211F\n",
      "\n",
      " Directory of C:\\Users\\trini\\Desktop\\Biostatistics\\Week2\n",
      "\n",
      "09/17/2023  01:13 PM    <DIR>          .\n",
      "09/16/2023  02:55 PM    <DIR>          ..\n",
      "09/17/2023  10:32 AM    <DIR>          .ipynb_checkpoints\n",
      "09/17/2023  01:13 PM            10,663 Biostatistics - Assignment 2.ipynb\n",
      "09/16/2023  03:01 PM                46 my_data.csv\n",
      "09/16/2023  03:03 PM               120 my_data.RData\n",
      "09/16/2023  02:57 PM                30 my_text_file.txt\n",
      "09/17/2023  10:29 AM           428,120 weight-height.csv\n",
      "09/17/2023  10:29 AM           168,610 weight-height.csv.gz\n",
      "               6 File(s)        607,589 bytes\n",
      "               3 Dir(s)  301,838,868,480 bytes free\n"
     ]
    }
   ],
   "source": [
    "ls"
   ]
  },
  {
   "cell_type": "code",
   "execution_count": null,
   "id": "1f9751cd",
   "metadata": {},
   "outputs": [],
   "source": [
    "%%bash\n",
    "\n",
    "# Uncompress the given .csv.gz file from the homework prompt using the BASH terminal\n",
    "gunzip -k weight-height.csv.gz"
   ]
  },
  {
   "cell_type": "markdown",
   "id": "55fbf3d2",
   "metadata": {},
   "source": [
    "#### Change Kernel to R - Start of Weight-height CSV Analysis"
   ]
  },
  {
   "cell_type": "code",
   "execution_count": 1,
   "id": "f9e2494d",
   "metadata": {},
   "outputs": [],
   "source": [
    "# Load csv data file\n",
    "weight_height_df = read.csv(\"weight-height.csv\", header=TRUE)"
   ]
  },
  {
   "cell_type": "code",
   "execution_count": 2,
   "id": "b91aa59b",
   "metadata": {},
   "outputs": [
    {
     "data": {
      "text/html": [
       "<table>\n",
       "<thead><tr><th scope=col>Gender</th><th scope=col>Height</th><th scope=col>Weight</th></tr></thead>\n",
       "<tbody>\n",
       "\t<tr><td>Male    </td><td>73.84702</td><td>241.8936</td></tr>\n",
       "\t<tr><td>Male    </td><td>68.78190</td><td>162.3105</td></tr>\n",
       "\t<tr><td>Male    </td><td>74.11011</td><td>212.7409</td></tr>\n",
       "\t<tr><td>Male    </td><td>71.73098</td><td>220.0425</td></tr>\n",
       "\t<tr><td>Male    </td><td>69.88180</td><td>206.3498</td></tr>\n",
       "\t<tr><td>Male    </td><td>67.25302</td><td>152.2122</td></tr>\n",
       "</tbody>\n",
       "</table>\n"
      ],
      "text/latex": [
       "\\begin{tabular}{r|lll}\n",
       " Gender & Height & Weight\\\\\n",
       "\\hline\n",
       "\t Male     & 73.84702 & 241.8936\\\\\n",
       "\t Male     & 68.78190 & 162.3105\\\\\n",
       "\t Male     & 74.11011 & 212.7409\\\\\n",
       "\t Male     & 71.73098 & 220.0425\\\\\n",
       "\t Male     & 69.88180 & 206.3498\\\\\n",
       "\t Male     & 67.25302 & 152.2122\\\\\n",
       "\\end{tabular}\n"
      ],
      "text/markdown": [
       "\n",
       "| Gender | Height | Weight |\n",
       "|---|---|---|\n",
       "| Male     | 73.84702 | 241.8936 |\n",
       "| Male     | 68.78190 | 162.3105 |\n",
       "| Male     | 74.11011 | 212.7409 |\n",
       "| Male     | 71.73098 | 220.0425 |\n",
       "| Male     | 69.88180 | 206.3498 |\n",
       "| Male     | 67.25302 | 152.2122 |\n",
       "\n"
      ],
      "text/plain": [
       "  Gender Height   Weight  \n",
       "1 Male   73.84702 241.8936\n",
       "2 Male   68.78190 162.3105\n",
       "3 Male   74.11011 212.7409\n",
       "4 Male   71.73098 220.0425\n",
       "5 Male   69.88180 206.3498\n",
       "6 Male   67.25302 152.2122"
      ]
     },
     "metadata": {},
     "output_type": "display_data"
    },
    {
     "data": {
      "text/html": [
       "<table>\n",
       "<thead><tr><th></th><th scope=col>Gender</th><th scope=col>Height</th><th scope=col>Weight</th></tr></thead>\n",
       "<tbody>\n",
       "\t<tr><th scope=row>9995</th><td>Female  </td><td>59.09825</td><td>110.5297</td></tr>\n",
       "\t<tr><th scope=row>9996</th><td>Female  </td><td>66.17265</td><td>136.7775</td></tr>\n",
       "\t<tr><th scope=row>9997</th><td>Female  </td><td>67.06715</td><td>170.8679</td></tr>\n",
       "\t<tr><th scope=row>9998</th><td>Female  </td><td>63.86799</td><td>128.4753</td></tr>\n",
       "\t<tr><th scope=row>9999</th><td>Female  </td><td>69.03424</td><td>163.8525</td></tr>\n",
       "\t<tr><th scope=row>10000</th><td>Female  </td><td>61.94425</td><td>113.6491</td></tr>\n",
       "</tbody>\n",
       "</table>\n"
      ],
      "text/latex": [
       "\\begin{tabular}{r|lll}\n",
       "  & Gender & Height & Weight\\\\\n",
       "\\hline\n",
       "\t9995 & Female   & 59.09825 & 110.5297\\\\\n",
       "\t9996 & Female   & 66.17265 & 136.7775\\\\\n",
       "\t9997 & Female   & 67.06715 & 170.8679\\\\\n",
       "\t9998 & Female   & 63.86799 & 128.4753\\\\\n",
       "\t9999 & Female   & 69.03424 & 163.8525\\\\\n",
       "\t10000 & Female   & 61.94425 & 113.6491\\\\\n",
       "\\end{tabular}\n"
      ],
      "text/markdown": [
       "\n",
       "| <!--/--> | Gender | Height | Weight |\n",
       "|---|---|---|---|\n",
       "| 9995 | Female   | 59.09825 | 110.5297 |\n",
       "| 9996 | Female   | 66.17265 | 136.7775 |\n",
       "| 9997 | Female   | 67.06715 | 170.8679 |\n",
       "| 9998 | Female   | 63.86799 | 128.4753 |\n",
       "| 9999 | Female   | 69.03424 | 163.8525 |\n",
       "| 10000 | Female   | 61.94425 | 113.6491 |\n",
       "\n"
      ],
      "text/plain": [
       "      Gender Height   Weight  \n",
       "9995  Female 59.09825 110.5297\n",
       "9996  Female 66.17265 136.7775\n",
       "9997  Female 67.06715 170.8679\n",
       "9998  Female 63.86799 128.4753\n",
       "9999  Female 69.03424 163.8525\n",
       "10000 Female 61.94425 113.6491"
      ]
     },
     "metadata": {},
     "output_type": "display_data"
    }
   ],
   "source": [
    "# View the CSV file \n",
    "\n",
    "head(weight_height_df)\n",
    "tail(weight_height_df)"
   ]
  },
  {
   "cell_type": "code",
   "execution_count": 3,
   "id": "59af2a02",
   "metadata": {},
   "outputs": [
    {
     "data": {
      "text/html": [
       "<ol class=list-inline>\n",
       "\t<li>'Gender'</li>\n",
       "\t<li>'Height'</li>\n",
       "\t<li>'Weight'</li>\n",
       "</ol>\n"
      ],
      "text/latex": [
       "\\begin{enumerate*}\n",
       "\\item 'Gender'\n",
       "\\item 'Height'\n",
       "\\item 'Weight'\n",
       "\\end{enumerate*}\n"
      ],
      "text/markdown": [
       "1. 'Gender'\n",
       "2. 'Height'\n",
       "3. 'Weight'\n",
       "\n",
       "\n"
      ],
      "text/plain": [
       "[1] \"Gender\" \"Height\" \"Weight\""
      ]
     },
     "metadata": {},
     "output_type": "display_data"
    }
   ],
   "source": [
    "# Get the callable header list:\n",
    "\n",
    "headers = colnames(weight_height_df)\n",
    "headers  \n",
    "# Later if I need to access all data in the header,\n",
    "# call by weight_height_df$header_name"
   ]
  },
  {
   "cell_type": "code",
   "execution_count": 4,
   "id": "ee647336",
   "metadata": {},
   "outputs": [
    {
     "data": {
      "text/html": [
       "<table>\n",
       "<thead><tr><th scope=col>Gender</th><th scope=col>Height</th><th scope=col>Weight</th></tr></thead>\n",
       "<tbody>\n",
       "\t<tr><td>Male    </td><td>73.84702</td><td>241.8936</td></tr>\n",
       "\t<tr><td>Male    </td><td>68.78190</td><td>162.3105</td></tr>\n",
       "\t<tr><td>Male    </td><td>74.11011</td><td>212.7409</td></tr>\n",
       "\t<tr><td>Male    </td><td>71.73098</td><td>220.0425</td></tr>\n",
       "\t<tr><td>Male    </td><td>69.88180</td><td>206.3498</td></tr>\n",
       "\t<tr><td>Male    </td><td>67.25302</td><td>152.2122</td></tr>\n",
       "</tbody>\n",
       "</table>\n"
      ],
      "text/latex": [
       "\\begin{tabular}{r|lll}\n",
       " Gender & Height & Weight\\\\\n",
       "\\hline\n",
       "\t Male     & 73.84702 & 241.8936\\\\\n",
       "\t Male     & 68.78190 & 162.3105\\\\\n",
       "\t Male     & 74.11011 & 212.7409\\\\\n",
       "\t Male     & 71.73098 & 220.0425\\\\\n",
       "\t Male     & 69.88180 & 206.3498\\\\\n",
       "\t Male     & 67.25302 & 152.2122\\\\\n",
       "\\end{tabular}\n"
      ],
      "text/markdown": [
       "\n",
       "| Gender | Height | Weight |\n",
       "|---|---|---|\n",
       "| Male     | 73.84702 | 241.8936 |\n",
       "| Male     | 68.78190 | 162.3105 |\n",
       "| Male     | 74.11011 | 212.7409 |\n",
       "| Male     | 71.73098 | 220.0425 |\n",
       "| Male     | 69.88180 | 206.3498 |\n",
       "| Male     | 67.25302 | 152.2122 |\n",
       "\n"
      ],
      "text/plain": [
       "  Gender Height   Weight  \n",
       "1 Male   73.84702 241.8936\n",
       "2 Male   68.78190 162.3105\n",
       "3 Male   74.11011 212.7409\n",
       "4 Male   71.73098 220.0425\n",
       "5 Male   69.88180 206.3498\n",
       "6 Male   67.25302 152.2122"
      ]
     },
     "metadata": {},
     "output_type": "display_data"
    },
    {
     "data": {
      "text/html": [
       "<table>\n",
       "<thead><tr><th></th><th scope=col>Gender</th><th scope=col>Height</th><th scope=col>Weight</th></tr></thead>\n",
       "<tbody>\n",
       "\t<tr><th scope=row>5001</th><td>Female  </td><td>58.91073</td><td>102.0883</td></tr>\n",
       "\t<tr><th scope=row>5002</th><td>Female  </td><td>65.23001</td><td>141.3058</td></tr>\n",
       "\t<tr><th scope=row>5003</th><td>Female  </td><td>63.36900</td><td>131.0414</td></tr>\n",
       "\t<tr><th scope=row>5004</th><td>Female  </td><td>64.48000</td><td>128.1715</td></tr>\n",
       "\t<tr><th scope=row>5005</th><td>Female  </td><td>61.79310</td><td>129.7814</td></tr>\n",
       "\t<tr><th scope=row>5006</th><td>Female  </td><td>65.96802</td><td>156.8021</td></tr>\n",
       "</tbody>\n",
       "</table>\n"
      ],
      "text/latex": [
       "\\begin{tabular}{r|lll}\n",
       "  & Gender & Height & Weight\\\\\n",
       "\\hline\n",
       "\t5001 & Female   & 58.91073 & 102.0883\\\\\n",
       "\t5002 & Female   & 65.23001 & 141.3058\\\\\n",
       "\t5003 & Female   & 63.36900 & 131.0414\\\\\n",
       "\t5004 & Female   & 64.48000 & 128.1715\\\\\n",
       "\t5005 & Female   & 61.79310 & 129.7814\\\\\n",
       "\t5006 & Female   & 65.96802 & 156.8021\\\\\n",
       "\\end{tabular}\n"
      ],
      "text/markdown": [
       "\n",
       "| <!--/--> | Gender | Height | Weight |\n",
       "|---|---|---|---|\n",
       "| 5001 | Female   | 58.91073 | 102.0883 |\n",
       "| 5002 | Female   | 65.23001 | 141.3058 |\n",
       "| 5003 | Female   | 63.36900 | 131.0414 |\n",
       "| 5004 | Female   | 64.48000 | 128.1715 |\n",
       "| 5005 | Female   | 61.79310 | 129.7814 |\n",
       "| 5006 | Female   | 65.96802 | 156.8021 |\n",
       "\n"
      ],
      "text/plain": [
       "     Gender Height   Weight  \n",
       "5001 Female 58.91073 102.0883\n",
       "5002 Female 65.23001 141.3058\n",
       "5003 Female 63.36900 131.0414\n",
       "5004 Female 64.48000 128.1715\n",
       "5005 Female 61.79310 129.7814\n",
       "5006 Female 65.96802 156.8021"
      ]
     },
     "metadata": {},
     "output_type": "display_data"
    }
   ],
   "source": [
    "# Get subset data exclusively only for Male and only for Female\n",
    "\n",
    "# Subset data only Male Gender\n",
    "Males_df = weight_height_df[weight_height_df$Gender == \"Male\",]\n",
    "# Code above means to call only the Male gender and its entire rows \n",
    "# and make it as a subset dataframe\n",
    "head(Males_df)\n",
    "\n",
    "# Subset data only Female Gender\n",
    "Females_df = weight_height_df[weight_height_df$Gender == \"Female\",]\n",
    "head(Females_df)"
   ]
  },
  {
   "cell_type": "raw",
   "id": "69319cf3",
   "metadata": {},
   "source": [
    "######### OR ########\n",
    "\n",
    "# To get the subset of data only Male or Female Gender using which() function\n",
    "\n",
    "M_df = weight_height_df[which(weight_height_df[,1] == \"Male\"),]\n",
    "F_df = weight_height_df[which(weight_height_df[,1] == \"Female\"),]\n",
    "\n",
    "# This cell was changed as 'Raw NBConvert' to prevent future accidental run"
   ]
  },
  {
   "cell_type": "code",
   "execution_count": 5,
   "id": "7be66c16",
   "metadata": {},
   "outputs": [
    {
     "data": {
      "text/plain": [
       "    Gender         Height          Weight     \n",
       " Female:5000   Min.   :54.26   Min.   : 64.7  \n",
       " Male  :5000   1st Qu.:63.51   1st Qu.:135.8  \n",
       "               Median :66.32   Median :161.2  \n",
       "               Mean   :66.37   Mean   :161.4  \n",
       "               3rd Qu.:69.17   3rd Qu.:187.2  \n",
       "               Max.   :79.00   Max.   :270.0  "
      ]
     },
     "metadata": {},
     "output_type": "display_data"
    }
   ],
   "source": [
    "# Obtain the summary data of the dataframe\n",
    "\n",
    "summary(weight_height_df)"
   ]
  },
  {
   "cell_type": "code",
   "execution_count": 6,
   "id": "dcfa89d3",
   "metadata": {},
   "outputs": [
    {
     "name": "stdout",
     "output_type": "stream",
     "text": [
      "The mean in height for both Male and Female is: 66.37 \n",
      "The std.dev in height for both Male and Female is: 3.85 \n",
      "The mean in weight for both Male and Female is: 161.44 \n",
      "The std.dev in weight for both Male and Female is: 32.11 \n"
     ]
    }
   ],
   "source": [
    "# Find the mean and std.dev in height and weight for the whole group (Male and Female)\n",
    "# Hint: Use mean() and sd() function and round of to 2 decimal places.\n",
    "\n",
    "Male_Female_mean_height = round(mean(weight_height_df$Height),2)\n",
    "cat (\"The mean in height for both Male and Female is:\",Male_Female_mean_height, '\\n')\n",
    "\n",
    "Male_Female_stdDev_height = round(sd(weight_height_df$Height),2)\n",
    "cat (\"The std.dev in height for both Male and Female is:\",Male_Female_stdDev_height, '\\n')\n",
    "\n",
    "Male_Female_mean_weight = round(mean(weight_height_df$Weight),2)\n",
    "cat (\"The mean in weight for both Male and Female is:\",Male_Female_mean_weight, '\\n')\n",
    "\n",
    "Male_Female_stdDev_weight = round(sd(weight_height_df$Weight),2)\n",
    "cat (\"The std.dev in weight for both Male and Female is:\",Male_Female_stdDev_weight, '\\n')"
   ]
  },
  {
   "cell_type": "code",
   "execution_count": 7,
   "id": "48ae7a58",
   "metadata": {},
   "outputs": [
    {
     "name": "stdout",
     "output_type": "stream",
     "text": [
      "The mean in height for Males: 69.03 \n",
      "The std.dev in height for Males: 2.86 \n",
      "The mean in weight for Males: 187.02 \n",
      "The std.dev in weight for Males: 19.78 \n"
     ]
    }
   ],
   "source": [
    "# Find the mean and std.dev in height and weight for Males Only\n",
    "\n",
    "Males_mean_height = round(mean(Males_df$Height),2)\n",
    "cat (\"The mean in height for Males:\",Males_mean_height,'\\n')\n",
    "\n",
    "Males_stdDev_height = round(sd(Males_df$Height),2)\n",
    "cat (\"The std.dev in height for Males:\",Males_stdDev_height,'\\n')\n",
    "\n",
    "Males_mean_weight = round(mean(Males_df$Weight),2)\n",
    "cat (\"The mean in weight for Males:\",Males_mean_weight,'\\n')\n",
    "\n",
    "Males_stdDev_weight = round(sd(Males_df$Weight),2)\n",
    "cat (\"The std.dev in weight for Males:\",Males_stdDev_weight,'\\n')"
   ]
  },
  {
   "cell_type": "code",
   "execution_count": 8,
   "id": "695bc35f",
   "metadata": {},
   "outputs": [
    {
     "name": "stdout",
     "output_type": "stream",
     "text": [
      "The mean in height for Females: 63.71 \n",
      "The std.dev in height for Females: 2.7 \n",
      "The mean in weight for Females: 135.86 \n",
      "The std.dev in weight for Females: 19.02 \n"
     ]
    }
   ],
   "source": [
    "# Find the mean and std.dev in height and weight for Females Only\n",
    "\n",
    "Females_mean_height = round(mean(Females_df$Height),2)\n",
    "cat (\"The mean in height for Females:\",Females_mean_height,'\\n')\n",
    "\n",
    "Females_stdDev_height = round(sd(Females_df$Height),2)\n",
    "cat (\"The std.dev in height for Females:\",Females_stdDev_height,'\\n')\n",
    "\n",
    "Females_mean_weight = round(mean(Females_df$Weight),2)\n",
    "cat (\"The mean in weight for Females:\",Females_mean_weight,'\\n')\n",
    "\n",
    "Females_stdDev_weight = round(sd(Females_df$Weight),2)\n",
    "cat (\"The std.dev in weight for Females:\",Females_stdDev_weight,'\\n')"
   ]
  },
  {
   "cell_type": "markdown",
   "id": "21fb02a8",
   "metadata": {},
   "source": [
    "## To determine variability of dataset, \n",
    " Solve for the ***`Coefficient of Variation (CV) = (Std.Dev / Mean) * 100`***\n",
    "  - This is a dimensionless value in percentage (%) where it `measures the relative variability\n",
    "      of a dataset` while taking into account\n",
    "      the relationship of std.dev and mean\n",
    "  - The `Higher the CV`, the greater the variability around the mean, or the `data values are relatively more widely spread around the mean`\n",
    "  - The `Lower the CV`, the lesser the variability around the mean, or the `data values are relatively close to the mean`\n",
    "  "
   ]
  },
  {
   "cell_type": "code",
   "execution_count": 9,
   "id": "6908b832",
   "metadata": {},
   "outputs": [
    {
     "name": "stdout",
     "output_type": "stream",
     "text": [
      "The height dataset in both Male and Female has a variability of 5.8 % relative to the height mean\n",
      "The weight dataset in both Male and Female has a variability of 19.89 % relative to the weight mean\n",
      "[1] \"The variability is greater in Weight in both Male and Female dataset\"\n"
     ]
    }
   ],
   "source": [
    "# 5. Solve for the Coefficient of Variation\n",
    "\n",
    "# I am assuming the homework prompt is being general for all genders in the dataset\n",
    "\n",
    "CV_height = round(((Male_Female_stdDev_height / Male_Female_mean_height) * 100),2)\n",
    "cat(\"The height dataset in both Male and Female has a variability of\",CV_height,\"% relative to the height mean\\n\")\n",
    "\n",
    "CV_weight = round(((Male_Female_stdDev_weight / Male_Female_mean_weight) * 100),2)\n",
    "cat(\"The weight dataset in both Male and Female has a variability of\",CV_weight,\"% relative to the weight mean\\n\")\n",
    "\n",
    "# Determine which variability is greater, the prompt said 'Weight'\n",
    "\n",
    "if (CV_height > CV_weight) {\n",
    "    print(\"The variability is greater in Height in both Male and Female dataset\")\n",
    "} else {\n",
    "    print(\"The variability is greater in Weight in both Male and Female dataset\")\n",
    "}\n",
    "\n",
    "### Simpler ifelse I found, take note only\n",
    "# ifelse(CV_height > CV_weight, \"Height\", \"Weight\")\n"
   ]
  },
  {
   "cell_type": "code",
   "execution_count": 10,
   "id": "2eb2ac3f",
   "metadata": {},
   "outputs": [
    {
     "data": {
      "text/html": [
       "<table>\n",
       "<thead><tr><th></th><th scope=col>Mean_height</th><th scope=col>StdDev_height</th><th scope=col>percent_variability_height</th><th scope=col>Mean_weight</th><th scope=col>StdDev_weight</th><th scope=col>percent_variability_weight</th></tr></thead>\n",
       "<tbody>\n",
       "\t<tr><th scope=row>Male</th><td>69.03 </td><td>2.86  </td><td>NaN   </td><td>187.02</td><td>19.78 </td><td>  NaN </td></tr>\n",
       "\t<tr><th scope=row>Female</th><td>63.71 </td><td>2.70  </td><td>NaN   </td><td>135.86</td><td>19.02 </td><td>  NaN </td></tr>\n",
       "\t<tr><th scope=row>Both</th><td>66.37 </td><td>3.85  </td><td>5.8   </td><td>161.44</td><td>32.11 </td><td>19.89 </td></tr>\n",
       "</tbody>\n",
       "</table>\n"
      ],
      "text/latex": [
       "\\begin{tabular}{r|llllll}\n",
       "  & Mean\\_height & StdDev\\_height & percent\\_variability\\_height & Mean\\_weight & StdDev\\_weight & percent\\_variability\\_weight\\\\\n",
       "\\hline\n",
       "\tMale & 69.03  & 2.86   & NaN    & 187.02 & 19.78  &   NaN \\\\\n",
       "\tFemale & 63.71  & 2.70   & NaN    & 135.86 & 19.02  &   NaN \\\\\n",
       "\tBoth & 66.37  & 3.85   & 5.8    & 161.44 & 32.11  & 19.89 \\\\\n",
       "\\end{tabular}\n"
      ],
      "text/markdown": [
       "\n",
       "| <!--/--> | Mean_height | StdDev_height | percent_variability_height | Mean_weight | StdDev_weight | percent_variability_weight |\n",
       "|---|---|---|---|---|---|---|\n",
       "| Male | 69.03  | 2.86   | NaN    | 187.02 | 19.78  |   NaN  |\n",
       "| Female | 63.71  | 2.70   | NaN    | 135.86 | 19.02  |   NaN  |\n",
       "| Both | 66.37  | 3.85   | 5.8    | 161.44 | 32.11  | 19.89  |\n",
       "\n"
      ],
      "text/plain": [
       "       Mean_height StdDev_height percent_variability_height Mean_weight\n",
       "Male   69.03       2.86          NaN                        187.02     \n",
       "Female 63.71       2.70          NaN                        135.86     \n",
       "Both   66.37       3.85          5.8                        161.44     \n",
       "       StdDev_weight percent_variability_weight\n",
       "Male   19.78           NaN                     \n",
       "Female 19.02           NaN                     \n",
       "Both   32.11         19.89                     "
      ]
     },
     "metadata": {},
     "output_type": "display_data"
    }
   ],
   "source": [
    "# Create a DataFrame Showing all values calculated\n",
    "# Easier to view for writer and viewer\n",
    "\n",
    "df_weight_height = data.frame(\n",
    "    Mean_height = c(Males_mean_height,Females_mean_height,Male_Female_mean_height),\n",
    "    StdDev_height = c(Males_stdDev_height, Females_stdDev_height,Male_Female_stdDev_height),\n",
    "    percent_variability_height = c(NaN,NaN,CV_height),\n",
    "    Mean_weight = c(Males_mean_weight,Females_mean_weight,Male_Female_mean_weight),\n",
    "    StdDev_weight = c(Males_stdDev_weight, Females_stdDev_weight,Male_Female_stdDev_weight),\n",
    "    percent_variability_weight = c(NaN,NaN,CV_weight))\n",
    "\n",
    "rownames(df_weight_height) = c('Male','Female','Both')\n",
    "df_weight_height"
   ]
  },
  {
   "cell_type": "markdown",
   "id": "3480a393",
   "metadata": {},
   "source": [
    "#### 6. What can the variability tell you about which variables are more easily influenced?\n",
    "\n",
    "*Answer: The weight variables are more easily influenced in the variability within the dataset, especially having a standard deviation of 32.11! That is pretty far/skewed from the mean/median*"
   ]
  },
  {
   "cell_type": "markdown",
   "id": "b3197d57",
   "metadata": {},
   "source": [
    "#### 7. Height and weight have increased over the years. So if you were to go back 50 years, which measurement would you guess has changed most, compared to today's numbers, height or weight (remember you are comparing height and weight which use different units, so what is the best metric to use here ?"
   ]
  },
  {
   "cell_type": "markdown",
   "id": "6a5dc59b",
   "metadata": {},
   "source": [
    "*Answer: The weight coefficient of variation measure would comparably change the most because according to Galton 1885, the correlation of heights between generations is not continuous towards an upward nor a downward trend relative to the average height - meaning it remains constant. To elaborate more to my reasoning, weight takes in many factors, but the most crucial factor would be how abundant and accessible the source of food for a population/ecosystem, and that accessibility would also be limited by wealth and health status. In conclusion, the CV of weight measure would have changed the most versus CV of height.*"
   ]
  },
  {
   "cell_type": "markdown",
   "id": "ff6c365c",
   "metadata": {},
   "source": [
    "# <font color=red> End Session </font>"
   ]
  },
  {
   "cell_type": "code",
   "execution_count": null,
   "id": "836cd7ca",
   "metadata": {},
   "outputs": [],
   "source": []
  }
 ],
 "metadata": {
  "kernelspec": {
   "display_name": "R",
   "language": "R",
   "name": "ir"
  },
  "language_info": {
   "codemirror_mode": "r",
   "file_extension": ".r",
   "mimetype": "text/x-r-source",
   "name": "R",
   "pygments_lexer": "r",
   "version": "3.6.1"
  }
 },
 "nbformat": 4,
 "nbformat_minor": 5
}
