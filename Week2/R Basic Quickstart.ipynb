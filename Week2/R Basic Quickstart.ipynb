{
 "cells": [
  {
   "cell_type": "markdown",
   "id": "b769c469",
   "metadata": {},
   "source": [
    "# <center> R Basic Quickstart </center>"
   ]
  },
  {
   "cell_type": "code",
   "execution_count": 1,
   "id": "79b2fa1a",
   "metadata": {},
   "outputs": [
    {
     "name": "stdout",
     "output_type": "stream",
     "text": [
      "[1] 1\n",
      "[1] 2\n"
     ]
    }
   ],
   "source": [
    "## assign value to a variable  (<- or = syntaxes)\n",
    "\n",
    "x <- 1\n",
    "# or\n",
    "y = 2\n",
    "\n",
    "print(x)\n",
    "print(y)"
   ]
  },
  {
   "cell_type": "markdown",
   "id": "ea94a4eb",
   "metadata": {},
   "source": [
    "#### `c()` command - creating vectors"
   ]
  },
  {
   "cell_type": "code",
   "execution_count": 2,
   "id": "b33887f1",
   "metadata": {},
   "outputs": [
    {
     "name": "stdout",
     "output_type": "stream",
     "text": [
      "[1] 1 2 3 4 5\n",
      "[1] 1 2 3 4 5\n"
     ]
    }
   ],
   "source": [
    "## Create a vector of values\n",
    "\n",
    "x_vec = c(1,2,3,4,5)  ## c() command is to concatenate the numericals and make it into a list/array\n",
    "# or\n",
    "y_vec = c(1:5)  ## this returns the same as x_vec, but this way makes it efficient\n",
    "\n",
    "print(x_vec)\n",
    "print(y_vec)"
   ]
  },
  {
   "cell_type": "markdown",
   "id": "5dfee073",
   "metadata": {},
   "source": [
    "### `list()` command - list of values"
   ]
  },
  {
   "cell_type": "code",
   "execution_count": 3,
   "id": "9b10bc8b",
   "metadata": {},
   "outputs": [
    {
     "name": "stdout",
     "output_type": "stream",
     "text": [
      "[[1]]\n",
      "[1] 1\n",
      "\n",
      "[[2]]\n",
      "[1] \"two\"\n",
      "\n",
      "[[3]]\n",
      "[1] 1 2 3 4 5\n",
      "\n",
      "[[4]]\n",
      "[1] 4\n",
      "\n",
      "[[5]]\n",
      "[1] 5\n",
      "\n"
     ]
    }
   ],
   "source": [
    "## Create a list of values - meaning we have a list combination of characters, numericals, and even lists/arrays\n",
    "## use the list() command, making it into a list of values\n",
    "\n",
    "x_list = list(1,\"two\",x_vec,4,5)\n",
    "print(x_list)  ## Notice that it prints with its assigned index number! Very informative!"
   ]
  },
  {
   "cell_type": "code",
   "execution_count": 4,
   "id": "f774db58",
   "metadata": {},
   "outputs": [
    {
     "data": {
      "text/html": [
       "3"
      ],
      "text/latex": [
       "3"
      ],
      "text/markdown": [
       "3"
      ],
      "text/plain": [
       "[1] 3"
      ]
     },
     "metadata": {},
     "output_type": "display_data"
    },
    {
     "data": {
      "text/html": [
       "<ol class=list-inline>\n",
       "\t<li>3</li>\n",
       "\t<li>4</li>\n",
       "</ol>\n"
      ],
      "text/latex": [
       "\\begin{enumerate*}\n",
       "\\item 3\n",
       "\\item 4\n",
       "\\end{enumerate*}\n"
      ],
      "text/markdown": [
       "1. 3\n",
       "2. 4\n",
       "\n",
       "\n"
      ],
      "text/plain": [
       "[1] 3 4"
      ]
     },
     "metadata": {},
     "output_type": "display_data"
    },
    {
     "data": {
      "text/html": [
       "<ol class=list-inline>\n",
       "\t<li>1</li>\n",
       "\t<li>2</li>\n",
       "\t<li>3</li>\n",
       "\t<li>4</li>\n",
       "\t<li>5</li>\n",
       "</ol>\n"
      ],
      "text/latex": [
       "\\begin{enumerate*}\n",
       "\\item 1\n",
       "\\item 2\n",
       "\\item 3\n",
       "\\item 4\n",
       "\\item 5\n",
       "\\end{enumerate*}\n"
      ],
      "text/markdown": [
       "1. 1\n",
       "2. 2\n",
       "3. 3\n",
       "4. 4\n",
       "5. 5\n",
       "\n",
       "\n"
      ],
      "text/plain": [
       "[1] 1 2 3 4 5"
      ]
     },
     "metadata": {},
     "output_type": "display_data"
    }
   ],
   "source": [
    "## Call an element from the vector\n",
    "\n",
    "x_vec[3]\n",
    "\n",
    "## Call a list of elements from the vector\n",
    "\n",
    "x_vec[c(3,4)]  ## Returns list of 2 elements with indices 3 and 4\n",
    "\n",
    "## Call a single element from the list\n",
    "\n",
    "x_list[[3]] ## Notice this was the assigned index number when we printed the x_list in the previous cell."
   ]
  },
  {
   "cell_type": "markdown",
   "id": "85595471",
   "metadata": {},
   "source": [
    "### `mean()` command"
   ]
  },
  {
   "cell_type": "code",
   "execution_count": 5,
   "id": "2536a03d",
   "metadata": {},
   "outputs": [
    {
     "data": {
      "text/html": [
       "3"
      ],
      "text/latex": [
       "3"
      ],
      "text/markdown": [
       "3"
      ],
      "text/plain": [
       "[1] 3"
      ]
     },
     "metadata": {},
     "output_type": "display_data"
    }
   ],
   "source": [
    "## Compute the mean, using the mean() command, of the numbers in x_vec\n",
    "\n",
    "mean(x_vec) ## Recall that x_vec contains only concated numericals "
   ]
  },
  {
   "cell_type": "code",
   "execution_count": 6,
   "id": "aee1826e",
   "metadata": {},
   "outputs": [],
   "source": [
    "## To get help about the usage of a term, within R.\n",
    "\n",
    "?plot  ## A pop-up will appear"
   ]
  },
  {
   "cell_type": "markdown",
   "id": "078d64af",
   "metadata": {},
   "source": [
    "# <center><font color=blue> Matrices </font></center>"
   ]
  },
  {
   "cell_type": "markdown",
   "id": "aef9a8ec",
   "metadata": {},
   "source": [
    "### `matrix()` command"
   ]
  },
  {
   "cell_type": "code",
   "execution_count": 26,
   "id": "3d5e46d8",
   "metadata": {},
   "outputs": [
    {
     "name": "stdout",
     "output_type": "stream",
     "text": [
      "     [,1] [,2]\n",
      "[1,]    0    0\n",
      "[2,]    0    0\n",
      "[3,]    0    0\n"
     ]
    }
   ],
   "source": [
    "## Create a matrix, using the matrix() command\n",
    "\n",
    "x_mat = matrix(0,nrow=3,ncol=2) ## this means all entries in the matrix is 0, #rows is 3, #columns is 2\n",
    "print(x_mat)  ## Notice it gives us the assigned rows(m) and columns(n) index!!!"
   ]
  },
  {
   "cell_type": "code",
   "execution_count": 27,
   "id": "bd17b5c3",
   "metadata": {},
   "outputs": [
    {
     "data": {
      "text/html": [
       "<table>\n",
       "<tbody>\n",
       "\t<tr><td>0</td><td>0</td></tr>\n",
       "\t<tr><td>0</td><td>0</td></tr>\n",
       "\t<tr><td>0</td><td>0</td></tr>\n",
       "</tbody>\n",
       "</table>\n"
      ],
      "text/latex": [
       "\\begin{tabular}{ll}\n",
       "\t 0 & 0\\\\\n",
       "\t 0 & 0\\\\\n",
       "\t 0 & 0\\\\\n",
       "\\end{tabular}\n"
      ],
      "text/markdown": [
       "\n",
       "| 0 | 0 |\n",
       "| 0 | 0 |\n",
       "| 0 | 0 |\n",
       "\n"
      ],
      "text/plain": [
       "     [,1] [,2]\n",
       "[1,] 0    0   \n",
       "[2,] 0    0   \n",
       "[3,] 0    0   "
      ]
     },
     "metadata": {},
     "output_type": "display_data"
    }
   ],
   "source": [
    "x_mat ## Notice the difference if you don't use the print() command"
   ]
  },
  {
   "cell_type": "markdown",
   "id": "9f09ae0b",
   "metadata": {},
   "source": [
    "### `t()` transpose command"
   ]
  },
  {
   "cell_type": "code",
   "execution_count": 28,
   "id": "2e42058a",
   "metadata": {},
   "outputs": [
    {
     "data": {
      "text/html": [
       "<table>\n",
       "<tbody>\n",
       "\t<tr><td>0</td><td>0</td><td>0</td></tr>\n",
       "\t<tr><td>0</td><td>0</td><td>0</td></tr>\n",
       "</tbody>\n",
       "</table>\n"
      ],
      "text/latex": [
       "\\begin{tabular}{lll}\n",
       "\t 0 & 0 & 0\\\\\n",
       "\t 0 & 0 & 0\\\\\n",
       "\\end{tabular}\n"
      ],
      "text/markdown": [
       "\n",
       "| 0 | 0 | 0 |\n",
       "| 0 | 0 | 0 |\n",
       "\n"
      ],
      "text/plain": [
       "     [,1] [,2] [,3]\n",
       "[1,] 0    0    0   \n",
       "[2,] 0    0    0   "
      ]
     },
     "metadata": {},
     "output_type": "display_data"
    }
   ],
   "source": [
    "## Transpose the matrix - means convert entries from rows to columns and columns to rows\n",
    "## use the t() function\n",
    "t(x_mat)"
   ]
  },
  {
   "cell_type": "code",
   "execution_count": 29,
   "id": "32169722",
   "metadata": {},
   "outputs": [
    {
     "data": {
      "text/html": [
       "0"
      ],
      "text/latex": [
       "0"
      ],
      "text/markdown": [
       "0"
      ],
      "text/plain": [
       "[1] 0"
      ]
     },
     "metadata": {},
     "output_type": "display_data"
    },
    {
     "data": {
      "text/html": [
       "<ol class=list-inline>\n",
       "\t<li>0</li>\n",
       "\t<li>0</li>\n",
       "</ol>\n"
      ],
      "text/latex": [
       "\\begin{enumerate*}\n",
       "\\item 0\n",
       "\\item 0\n",
       "\\end{enumerate*}\n"
      ],
      "text/markdown": [
       "1. 0\n",
       "2. 0\n",
       "\n",
       "\n"
      ],
      "text/plain": [
       "[1] 0 0"
      ]
     },
     "metadata": {},
     "output_type": "display_data"
    },
    {
     "data": {
      "text/html": [
       "<ol class=list-inline>\n",
       "\t<li>0</li>\n",
       "\t<li>0</li>\n",
       "</ol>\n"
      ],
      "text/latex": [
       "\\begin{enumerate*}\n",
       "\\item 0\n",
       "\\item 0\n",
       "\\end{enumerate*}\n"
      ],
      "text/markdown": [
       "1. 0\n",
       "2. 0\n",
       "\n",
       "\n"
      ],
      "text/plain": [
       "[1] 0 0"
      ]
     },
     "metadata": {},
     "output_type": "display_data"
    }
   ],
   "source": [
    "## Return the element in row 1 and column 2\n",
    "\n",
    "x_mat[1,2]\n",
    "\n",
    "## Return all elements in row 1 and column 2\n",
    "\n",
    "x_mat[c(1,2)]\n",
    "\n",
    "## Return all elements in row 1 \n",
    "\n",
    "x_mat[1,]"
   ]
  },
  {
   "cell_type": "code",
   "execution_count": 30,
   "id": "fd12ef73",
   "metadata": {},
   "outputs": [
    {
     "name": "stdout",
     "output_type": "stream",
     "text": [
      "[1] 3 2\n",
      "     [,1] [,2]\n",
      "[1,]    0    0\n",
      "[2,]    0    0\n",
      "[3,]    0    0\n",
      "     [,1] [,2]\n",
      "[1,]    1    0\n",
      "[2,]    2    0\n",
      "[3,]    3    0\n",
      "     [,1] [,2]\n",
      "[1,]    1    0\n",
      "[2,]    4    5\n",
      "[3,]    3    0\n"
     ]
    }
   ],
   "source": [
    "## Let's start filling up the matrix\n",
    "\n",
    "# But first, let's get the number of rows and columns in the matrix\n",
    "dm = dim(x_mat)  # dim() command 'dimensions' this gives the list of # rows and # columns in the matrix\n",
    "print(dm)  # the first number is # Rows and the second number is # Columns\n",
    "\n",
    "# Before adding values matrix\n",
    "print(x_mat)\n",
    "\n",
    "# After adding values in the entire first column the matrix\n",
    "x_mat[,1] = c(1,2,3)  # This means we are assigning the entire first column in the matrix with these numericals\n",
    "print(x_mat)\n",
    "\n",
    "# After adding values in the entire second row, NOTE: ANY CHANGES WILL OVERWRITE THE MOST RECENT CHANGES\n",
    "x_mat[2,] = c(4,5) ## Notice the entire second row got updated\n",
    "print(x_mat)"
   ]
  },
  {
   "cell_type": "markdown",
   "id": "ecffa6bb",
   "metadata": {},
   "source": [
    "# <font color=red> BEWARE!! running the cells again and again will update the matrix! </font>"
   ]
  },
  {
   "cell_type": "markdown",
   "id": "10f84aa0",
   "metadata": {},
   "source": [
    " "
   ]
  },
  {
   "cell_type": "markdown",
   "id": "d9616d98",
   "metadata": {},
   "source": [
    "### `rownames()` and `colnames()` commands"
   ]
  },
  {
   "cell_type": "code",
   "execution_count": 31,
   "id": "25e2850a",
   "metadata": {},
   "outputs": [
    {
     "data": {
      "text/html": [
       "<table>\n",
       "<tbody>\n",
       "\t<tr><td>1</td><td>0</td></tr>\n",
       "\t<tr><td>4</td><td>5</td></tr>\n",
       "\t<tr><td>3</td><td>0</td></tr>\n",
       "</tbody>\n",
       "</table>\n"
      ],
      "text/latex": [
       "\\begin{tabular}{ll}\n",
       "\t 1 & 0\\\\\n",
       "\t 4 & 5\\\\\n",
       "\t 3 & 0\\\\\n",
       "\\end{tabular}\n"
      ],
      "text/markdown": [
       "\n",
       "| 1 | 0 |\n",
       "| 4 | 5 |\n",
       "| 3 | 0 |\n",
       "\n"
      ],
      "text/plain": [
       "     [,1] [,2]\n",
       "[1,] 1    0   \n",
       "[2,] 4    5   \n",
       "[3,] 3    0   "
      ]
     },
     "metadata": {},
     "output_type": "display_data"
    },
    {
     "data": {
      "text/html": [
       "<table>\n",
       "<thead><tr><th></th><th scope=col>col1</th><th scope=col>col2</th></tr></thead>\n",
       "<tbody>\n",
       "\t<tr><th scope=row>row1</th><td>1</td><td>0</td></tr>\n",
       "\t<tr><th scope=row>row2</th><td>4</td><td>5</td></tr>\n",
       "\t<tr><th scope=row>row3</th><td>3</td><td>0</td></tr>\n",
       "</tbody>\n",
       "</table>\n"
      ],
      "text/latex": [
       "\\begin{tabular}{r|ll}\n",
       "  & col1 & col2\\\\\n",
       "\\hline\n",
       "\trow1 & 1 & 0\\\\\n",
       "\trow2 & 4 & 5\\\\\n",
       "\trow3 & 3 & 0\\\\\n",
       "\\end{tabular}\n"
      ],
      "text/markdown": [
       "\n",
       "| <!--/--> | col1 | col2 |\n",
       "|---|---|---|\n",
       "| row1 | 1 | 0 |\n",
       "| row2 | 4 | 5 |\n",
       "| row3 | 3 | 0 |\n",
       "\n"
      ],
      "text/plain": [
       "     col1 col2\n",
       "row1 1    0   \n",
       "row2 4    5   \n",
       "row3 3    0   "
      ]
     },
     "metadata": {},
     "output_type": "display_data"
    },
    {
     "data": {
      "text/html": [
       "<dl class=dl-horizontal>\n",
       "\t<dt>row1</dt>\n",
       "\t\t<dd>1</dd>\n",
       "\t<dt>row2</dt>\n",
       "\t\t<dd>4</dd>\n",
       "\t<dt>row3</dt>\n",
       "\t\t<dd>3</dd>\n",
       "</dl>\n"
      ],
      "text/latex": [
       "\\begin{description*}\n",
       "\\item[row1] 1\n",
       "\\item[row2] 4\n",
       "\\item[row3] 3\n",
       "\\end{description*}\n"
      ],
      "text/markdown": [
       "row1\n",
       ":   1row2\n",
       ":   4row3\n",
       ":   3\n",
       "\n"
      ],
      "text/plain": [
       "row1 row2 row3 \n",
       "   1    4    3 "
      ]
     },
     "metadata": {},
     "output_type": "display_data"
    }
   ],
   "source": [
    "## Assigning names for rows and columns and addressing/calling them by name\n",
    "\n",
    "# Before name changing:\n",
    "x_mat\n",
    "\n",
    "# After naming changing:  rownames() and colnames() commands\n",
    "rownames(x_mat) = c(\"row1\",\"row2\",\"row3\")\n",
    "colnames(x_mat) = c(\"col1\",\"col2\")\n",
    "x_mat\n",
    "\n",
    "# Call by name\n",
    "x_mat[,\"col1\"]"
   ]
  },
  {
   "cell_type": "markdown",
   "id": "98d2eb40",
   "metadata": {},
   "source": [
    "### `colSums()` and `rowSums()` commands - arithmetic "
   ]
  },
  {
   "cell_type": "code",
   "execution_count": 32,
   "id": "4396791e",
   "metadata": {},
   "outputs": [
    {
     "data": {
      "text/html": [
       "<dl class=dl-horizontal>\n",
       "\t<dt>col1</dt>\n",
       "\t\t<dd>8</dd>\n",
       "\t<dt>col2</dt>\n",
       "\t\t<dd>5</dd>\n",
       "</dl>\n"
      ],
      "text/latex": [
       "\\begin{description*}\n",
       "\\item[col1] 8\n",
       "\\item[col2] 5\n",
       "\\end{description*}\n"
      ],
      "text/markdown": [
       "col1\n",
       ":   8col2\n",
       ":   5\n",
       "\n"
      ],
      "text/plain": [
       "col1 col2 \n",
       "   8    5 "
      ]
     },
     "metadata": {},
     "output_type": "display_data"
    },
    {
     "data": {
      "text/html": [
       "<dl class=dl-horizontal>\n",
       "\t<dt>row1</dt>\n",
       "\t\t<dd>1</dd>\n",
       "\t<dt>row2</dt>\n",
       "\t\t<dd>9</dd>\n",
       "\t<dt>row3</dt>\n",
       "\t\t<dd>3</dd>\n",
       "</dl>\n"
      ],
      "text/latex": [
       "\\begin{description*}\n",
       "\\item[row1] 1\n",
       "\\item[row2] 9\n",
       "\\item[row3] 3\n",
       "\\end{description*}\n"
      ],
      "text/markdown": [
       "row1\n",
       ":   1row2\n",
       ":   9row3\n",
       ":   3\n",
       "\n"
      ],
      "text/plain": [
       "row1 row2 row3 \n",
       "   1    9    3 "
      ]
     },
     "metadata": {},
     "output_type": "display_data"
    }
   ],
   "source": [
    "## Arithmetics!  colSums() and rowSums() commands\n",
    "\n",
    "colSums(x_mat) # Sum all the numbers in the column\n",
    "rowSums(x_mat) # Sum all the numbers in the row\n",
    "## All will be returned as a list"
   ]
  },
  {
   "cell_type": "markdown",
   "id": "b34fce83",
   "metadata": {},
   "source": [
    "### `cbind(vector1,vector2,...,vectorN)` - meaning `column bind` method\n",
    "#### <font color=olive>Binding vectors as columns to create a matrix or add columns to an existing matrix</font>"
   ]
  },
  {
   "cell_type": "code",
   "execution_count": 35,
   "id": "ce871531",
   "metadata": {},
   "outputs": [
    {
     "data": {
      "text/html": [
       "<table>\n",
       "<tbody>\n",
       "\t<tr><td>1</td><td>4</td></tr>\n",
       "\t<tr><td>2</td><td>5</td></tr>\n",
       "\t<tr><td>3</td><td>6</td></tr>\n",
       "</tbody>\n",
       "</table>\n"
      ],
      "text/latex": [
       "\\begin{tabular}{ll}\n",
       "\t 1 & 4\\\\\n",
       "\t 2 & 5\\\\\n",
       "\t 3 & 6\\\\\n",
       "\\end{tabular}\n"
      ],
      "text/markdown": [
       "\n",
       "| 1 | 4 |\n",
       "| 2 | 5 |\n",
       "| 3 | 6 |\n",
       "\n"
      ],
      "text/plain": [
       "     [,1] [,2]\n",
       "[1,] 1    4   \n",
       "[2,] 2    5   \n",
       "[3,] 3    6   "
      ]
     },
     "metadata": {},
     "output_type": "display_data"
    },
    {
     "data": {
      "text/html": [
       "<table>\n",
       "<thead><tr><th scope=col>vector1</th><th scope=col>vector2</th></tr></thead>\n",
       "<tbody>\n",
       "\t<tr><td>1</td><td>4</td></tr>\n",
       "\t<tr><td>2</td><td>5</td></tr>\n",
       "\t<tr><td>3</td><td>6</td></tr>\n",
       "</tbody>\n",
       "</table>\n"
      ],
      "text/latex": [
       "\\begin{tabular}{ll}\n",
       " vector1 & vector2\\\\\n",
       "\\hline\n",
       "\t 1 & 4\\\\\n",
       "\t 2 & 5\\\\\n",
       "\t 3 & 6\\\\\n",
       "\\end{tabular}\n"
      ],
      "text/markdown": [
       "\n",
       "| vector1 | vector2 |\n",
       "|---|---|\n",
       "| 1 | 4 |\n",
       "| 2 | 5 |\n",
       "| 3 | 6 |\n",
       "\n"
      ],
      "text/plain": [
       "     vector1 vector2\n",
       "[1,] 1       4      \n",
       "[2,] 2       5      \n",
       "[3,] 3       6      "
      ]
     },
     "metadata": {},
     "output_type": "display_data"
    }
   ],
   "source": [
    "# Manual\n",
    "\n",
    "cbind(c(1,2,3),c(4,5,6))  ## Stacking up vectors as columns\n",
    "\n",
    "# Efficient, already naming the columns\n",
    "vector1 = c(1,2,3) # or c(1:3)\n",
    "vector2 = c(4,5,6) # or c(4:6)\n",
    "\n",
    "cbind(vector1,vector2)\n"
   ]
  },
  {
   "cell_type": "markdown",
   "id": "81768c81",
   "metadata": {},
   "source": [
    "### `rbind(vector1,vector2,...,vectorN)` - meaning `row bind` method\n",
    "#### <font color=olive>Binding vectors as rows to create a matrix or add rows to an existing matrix</font>"
   ]
  },
  {
   "cell_type": "code",
   "execution_count": 1,
   "id": "8e1852dc",
   "metadata": {},
   "outputs": [
    {
     "data": {
      "text/html": [
       "<table>\n",
       "<tbody>\n",
       "\t<tr><td>1</td><td>2</td><td>3</td></tr>\n",
       "\t<tr><td>4</td><td>5</td><td>6</td></tr>\n",
       "\t<tr><td>7</td><td>8</td><td>9</td></tr>\n",
       "</tbody>\n",
       "</table>\n"
      ],
      "text/latex": [
       "\\begin{tabular}{lll}\n",
       "\t 1 & 2 & 3\\\\\n",
       "\t 4 & 5 & 6\\\\\n",
       "\t 7 & 8 & 9\\\\\n",
       "\\end{tabular}\n"
      ],
      "text/markdown": [
       "\n",
       "| 1 | 2 | 3 |\n",
       "| 4 | 5 | 6 |\n",
       "| 7 | 8 | 9 |\n",
       "\n"
      ],
      "text/plain": [
       "     [,1] [,2] [,3]\n",
       "[1,] 1    2    3   \n",
       "[2,] 4    5    6   \n",
       "[3,] 7    8    9   "
      ]
     },
     "metadata": {},
     "output_type": "display_data"
    }
   ],
   "source": [
    "rbind(c(1:3),c(4:6),c(7:9))  ## You stack up the vectors as rows"
   ]
  },
  {
   "cell_type": "markdown",
   "id": "8d548cb3",
   "metadata": {},
   "source": [
    "### Another way of creating a matrix, via `dim()` command"
   ]
  },
  {
   "cell_type": "code",
   "execution_count": 46,
   "id": "0ff6f1b4",
   "metadata": {},
   "outputs": [
    {
     "name": "stdout",
     "output_type": "stream",
     "text": [
      "[1] 1 2 3 4 5 6\n"
     ]
    },
    {
     "data": {
      "text/plain": [
       "NULL"
      ]
     },
     "metadata": {},
     "output_type": "display_data"
    },
    {
     "name": "stdout",
     "output_type": "stream",
     "text": [
      "     [,1] [,2] [,3]\n",
      "[1,]    1    3    5\n",
      "[2,]    2    4    6\n"
     ]
    }
   ],
   "source": [
    "# Convert a vector to a matrix using dim()\n",
    "\n",
    "x = c(1:6)\n",
    "print(x) \n",
    "dim(x) # What it looks like before proceeding\n",
    "\n",
    "dim(x) = c(2,3)  # Recall, dim() returns two values as list format, #rows and #columns, \n",
    "                    # here we assign those values! #row=2, #column=3 (meaning 2-by-3 matrix) VERY SMART\n",
    "print(x)"
   ]
  },
  {
   "cell_type": "code",
   "execution_count": null,
   "id": "b0a5ec52",
   "metadata": {},
   "outputs": [],
   "source": []
  }
 ],
 "metadata": {
  "kernelspec": {
   "display_name": "R",
   "language": "R",
   "name": "ir"
  },
  "language_info": {
   "codemirror_mode": "r",
   "file_extension": ".r",
   "mimetype": "text/x-r-source",
   "name": "R",
   "pygments_lexer": "r",
   "version": "3.6.1"
  }
 },
 "nbformat": 4,
 "nbformat_minor": 5
}
