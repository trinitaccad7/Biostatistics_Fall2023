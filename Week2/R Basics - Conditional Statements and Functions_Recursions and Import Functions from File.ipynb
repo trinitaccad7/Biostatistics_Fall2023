{
 "cells": [
  {
   "cell_type": "markdown",
   "id": "cb07ecaa",
   "metadata": {},
   "source": [
    "# <center> R Basics - Conditional Statements </center>"
   ]
  },
  {
   "cell_type": "code",
   "execution_count": 2,
   "id": "58785617",
   "metadata": {},
   "outputs": [
    {
     "name": "stdout",
     "output_type": "stream",
     "text": [
      "0 is even \n",
      "1 is odd \n",
      "2 is even \n",
      "3 is odd \n",
      "4 is even \n",
      "5 is odd \n",
      "6 is even \n",
      "7 is odd \n",
      "8 is even \n",
      "9 is odd \n"
     ]
    }
   ],
   "source": [
    "# Use if, elif, and else-statements\n",
    "\n",
    "i = 0;\n",
    "n = 10;\n",
    "\n",
    "while (i < n) {\n",
    "    if ((i %% 2) == 0) {  # '%%' is the mod syntax we use in python, this process divides 2 many times until we have a remainder or none\n",
    "        cat (i, \"is even \\n\");  ## this means if there is no remainder, i=0, then we know the value was even\n",
    "    }\n",
    "    else {\n",
    "        cat (i, \"is odd \\n\"); ## this means that the value had a remainder, so it is an odd value\n",
    "    }\n",
    "    i = i + 1\n",
    "}"
   ]
  },
  {
   "cell_type": "code",
   "execution_count": 6,
   "id": "be05c2b6",
   "metadata": {},
   "outputs": [
    {
     "name": "stdout",
     "output_type": "stream",
     "text": [
      "i = 1 \n",
      "i = 2 \n",
      "i = 3 \n",
      "The value 4 is not within or equal to 1 and 3 \n",
      "The value 5 is not within or equal to 1 and 3 \n"
     ]
    }
   ],
   "source": [
    "# Using boolean logic in the conditional statements:\n",
    "\n",
    "x_vec = c(1:5)  # Define a vector\n",
    "\n",
    "for (i in x_vec) {  # we are now going over the elements in the x_vec list/vector\n",
    "    if (i <= 3 & i >= 1) {  # This means i needs to be BOTH less than/equal to 3 AND greater than/equal to 1 to satisfy conditions\n",
    "        cat ('i =', i, '\\n');\n",
    "    }\n",
    "    else {\n",
    "        cat ('The value', i, 'is not within or equal to 1 and 3','\\n')\n",
    "    }\n",
    "}\n"
   ]
  },
  {
   "cell_type": "code",
   "execution_count": 11,
   "id": "540b2627",
   "metadata": {},
   "outputs": [
    {
     "name": "stdout",
     "output_type": "stream",
     "text": [
      "i = 1 \n",
      "i = 2 \n",
      "i = 3 \n",
      "The value 4 is not either less than/equal to 3 or greater than/equal 8  \n",
      "The value 5 is not either less than/equal to 3 or greater than/equal 8  \n",
      "The value 6 is not either less than/equal to 3 or greater than/equal 8  \n",
      "The value 7 is not either less than/equal to 3 or greater than/equal 8  \n",
      "i = 8 \n",
      "i = 9 \n",
      "i = 10 \n"
     ]
    }
   ],
   "source": [
    "# Using boolean logic in the conditional statements:\n",
    "\n",
    "x_vec = c(1:10)  # Define a vector\n",
    "\n",
    "for (i in x_vec) {  # we are now going over the elements in the x_vec list/vector\n",
    "    if (i <= 3 | i >= 8) {  # This means i needs to be EITHER less than/equal to 3 AND greater than/equal to 8 to satisfy conditions\n",
    "        cat ('i =', i, '\\n');\n",
    "    }\n",
    "    else {\n",
    "        cat ('The value', i, 'is not either less than/equal to 3 or greater than/equal 8 ','\\n')\n",
    "    }\n",
    "}\n"
   ]
  },
  {
   "cell_type": "markdown",
   "id": "2a268404",
   "metadata": {},
   "source": [
    "# <center> R Basics - Modular Programming (Functions and Recursions) </center>"
   ]
  },
  {
   "cell_type": "raw",
   "id": "8f43ef40",
   "metadata": {},
   "source": [
    "# Define a function  VERY SIMILAR TO PYTHON\n",
    "my_function = function(arg1, arg2, ...) {\n",
    "  # Function body - your code goes here\n",
    "  # You can use arg1, arg2, and other arguments in your code\n",
    "  result = arg1 + arg2\n",
    "  return(result)  # Return a value (if needed)\n",
    "}\n",
    "\n",
    "# Call the function with arguments\n",
    "output = my_function(3, 4)\n",
    "print(output)  # This will print the result of the function\n"
   ]
  },
  {
   "cell_type": "code",
   "execution_count": 14,
   "id": "136aaafb",
   "metadata": {},
   "outputs": [
    {
     "data": {
      "text/html": [
       "<ol class=list-inline>\n",
       "\t<li>2</li>\n",
       "\t<li>4</li>\n",
       "\t<li>6</li>\n",
       "\t<li>8</li>\n",
       "\t<li>10</li>\n",
       "</ol>\n"
      ],
      "text/latex": [
       "\\begin{enumerate*}\n",
       "\\item 2\n",
       "\\item 4\n",
       "\\item 6\n",
       "\\item 8\n",
       "\\item 10\n",
       "\\end{enumerate*}\n"
      ],
      "text/markdown": [
       "1. 2\n",
       "2. 4\n",
       "3. 6\n",
       "4. 8\n",
       "5. 10\n",
       "\n",
       "\n"
      ],
      "text/plain": [
       "[1]  2  4  6  8 10"
      ]
     },
     "metadata": {},
     "output_type": "display_data"
    }
   ],
   "source": [
    "# Let's define a function from the given lecture slides\n",
    "\n",
    "dbl = function(x) {\n",
    "    return (2*x);\n",
    "}\n",
    "\n",
    "# Initiate/test the function\n",
    "\n",
    "x_vec = c(1:5) # Define a list/vector\n",
    "dbl(x_vec)  "
   ]
  },
  {
   "cell_type": "markdown",
   "id": "fdb3b668",
   "metadata": {},
   "source": [
    "## <font color=blue> Notice that we don't have to iterate the list with a loop, it just assumes it already :) </font>"
   ]
  },
  {
   "cell_type": "markdown",
   "id": "25b5b106",
   "metadata": {},
   "source": [
    "### `Apply the functions created to apply(), sapply(), and lapply() functions`"
   ]
  },
  {
   "cell_type": "code",
   "execution_count": 15,
   "id": "cc871270",
   "metadata": {},
   "outputs": [
    {
     "data": {
      "text/html": [
       "<ol class=list-inline>\n",
       "\t<li>2</li>\n",
       "\t<li>4</li>\n",
       "\t<li>6</li>\n",
       "\t<li>8</li>\n",
       "\t<li>10</li>\n",
       "</ol>\n"
      ],
      "text/latex": [
       "\\begin{enumerate*}\n",
       "\\item 2\n",
       "\\item 4\n",
       "\\item 6\n",
       "\\item 8\n",
       "\\item 10\n",
       "\\end{enumerate*}\n"
      ],
      "text/markdown": [
       "1. 2\n",
       "2. 4\n",
       "3. 6\n",
       "4. 8\n",
       "5. 10\n",
       "\n",
       "\n"
      ],
      "text/plain": [
       "[1]  2  4  6  8 10"
      ]
     },
     "metadata": {},
     "output_type": "display_data"
    }
   ],
   "source": [
    "# Let's use sapply() as an example of using our functions within the apply functions:\n",
    "\n",
    "sapply(x_vec, dbl)  # Input 1 is the vector list, input 2 is the function we created"
   ]
  },
  {
   "cell_type": "markdown",
   "id": "45adc861",
   "metadata": {},
   "source": [
    "# `Recursions` instead of For loops, very powerful in Function Modular Programming"
   ]
  },
  {
   "cell_type": "code",
   "execution_count": 16,
   "id": "f7d3a377",
   "metadata": {},
   "outputs": [
    {
     "data": {
      "text/html": [
       "120"
      ],
      "text/latex": [
       "120"
      ],
      "text/markdown": [
       "120"
      ],
      "text/plain": [
       "[1] 120"
      ]
     },
     "metadata": {},
     "output_type": "display_data"
    }
   ],
   "source": [
    "# Define a function (STEP1)\n",
    "fct = function(n) {\n",
    "    if (n == 1) {\n",
    "        return (n)\n",
    "    }\n",
    "    else {\n",
    "        return (n*fct(n-1))\n",
    "    }\n",
    "}\n",
    "\n",
    "# Test out the function with recursions\n",
    "fct(5)\n",
    "\n",
    "# Reasoning:\n",
    "# Since we stated input(n) = 5,\n",
    "# It went to the else-statement again AND again, until the statement is TRUE."
   ]
  },
  {
   "cell_type": "markdown",
   "id": "7291c796",
   "metadata": {},
   "source": [
    " "
   ]
  },
  {
   "cell_type": "markdown",
   "id": "6b33a2eb",
   "metadata": {},
   "source": [
    "# <font color=blue>Importing code from File (containing our Functions) - Used in Modular Programming</font>"
   ]
  },
  {
   "cell_type": "raw",
   "id": "0c514096",
   "metadata": {},
   "source": [
    "source('filename')  ## Imports contents in filename and runs them\n",
    "    # or\n",
    "source('path_of_file')"
   ]
  }
 ],
 "metadata": {
  "kernelspec": {
   "display_name": "R",
   "language": "R",
   "name": "ir"
  },
  "language_info": {
   "codemirror_mode": "r",
   "file_extension": ".r",
   "mimetype": "text/x-r-source",
   "name": "R",
   "pygments_lexer": "r",
   "version": "3.6.1"
  }
 },
 "nbformat": 4,
 "nbformat_minor": 5
}
