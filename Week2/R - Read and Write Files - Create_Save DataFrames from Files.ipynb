{
 "cells": [
  {
   "cell_type": "markdown",
   "id": "c639fd28",
   "metadata": {},
   "source": [
    "# <center>R - Data Frames (I/O to files)</center>"
   ]
  },
  {
   "cell_type": "markdown",
   "id": "1f9d433d",
   "metadata": {},
   "source": [
    "**Import Code from a File (Modular Programming Functions)**"
   ]
  },
  {
   "cell_type": "raw",
   "id": "b561ef29",
   "metadata": {},
   "source": [
    "## Recall, to import code from a file (Modular Programming Functions)\n",
    "\n",
    "source(\"filename\")  # Imports contents in file and runs them"
   ]
  },
  {
   "cell_type": "markdown",
   "id": "2ca96ff5",
   "metadata": {},
   "source": [
    "**Reading CSV Files**"
   ]
  },
  {
   "cell_type": "raw",
   "id": "d0fa3e1a",
   "metadata": {},
   "source": [
    "## read data from CSV files\n",
    "\n",
    "fdata = read.csv(file = 'datafile.csv', header = TRUE, row.names=1)"
   ]
  },
  {
   "cell_type": "markdown",
   "id": "2376dad0",
   "metadata": {},
   "source": [
    "**Writing Text Files**"
   ]
  },
  {
   "cell_type": "raw",
   "id": "3697dcaf",
   "metadata": {},
   "source": [
    "### Create and Write text file using R ###\n",
    "\n",
    "sink('Filename.txt')\n",
    "\n",
    "### Write into the text file ###\n",
    "\n",
    "cat (\" This is a test\")\n",
    "\n",
    "### Close text file ###\n",
    "\n",
    "sink()  # Closes the file\n",
    "\n",
    "\n",
    "### Append data to pre-existing files using sink() function ###\n",
    "\n",
    "sink('Filename.txt', append=TRUE)\n",
    "\n",
    "### To also see what is being written into the file while using sink() ###\n",
    "\n",
    "sink('Filename.txt', append=TRUE, split=TRUE)"
   ]
  },
  {
   "cell_type": "markdown",
   "id": "0540ebdc",
   "metadata": {},
   "source": [
    "**Writing DataFrames to File (ASCII, Binary)**"
   ]
  },
  {
   "cell_type": "raw",
   "id": "98bb1feb",
   "metadata": {},
   "source": [
    "write.csv(df, file='df.csv')"
   ]
  },
  {
   "cell_type": "markdown",
   "id": "085c03bd",
   "metadata": {},
   "source": [
    "**Saving Multiple objects to an RData File**"
   ]
  },
  {
   "cell_type": "raw",
   "id": "8252c035",
   "metadata": {},
   "source": [
    "save(data1,data2,file='data.Rdata')"
   ]
  },
  {
   "cell_type": "markdown",
   "id": "f431fbe6",
   "metadata": {},
   "source": [
    "**Import Data from File (ASCII, Binary)**"
   ]
  },
  {
   "cell_type": "raw",
   "id": "7e905c8a",
   "metadata": {},
   "source": [
    "load('data.Rdata') # Loading data from an RData File\n",
    "\n",
    "# Reading Data from a CSV File\n",
    "data = read.csv(file='df.csv', header=TRUE, sep=\",\")  # very similar to opening CSV files in BASH terminal"
   ]
  },
  {
   "cell_type": "markdown",
   "id": "a6ecb342",
   "metadata": {},
   "source": [
    " "
   ]
  },
  {
   "cell_type": "markdown",
   "id": "46e33055",
   "metadata": {},
   "source": [
    " "
   ]
  },
  {
   "cell_type": "markdown",
   "id": "60310632",
   "metadata": {},
   "source": [
    " "
   ]
  },
  {
   "cell_type": "markdown",
   "id": "7e91af96",
   "metadata": {},
   "source": [
    "# Let's Run An Example Given by ChatGPT"
   ]
  },
  {
   "cell_type": "code",
   "execution_count": null,
   "id": "ab7532aa",
   "metadata": {},
   "outputs": [],
   "source": [
    "# Writing Text to a File\n",
    "\n",
    "# Create and open a text file for writing\n",
    "sink('my_text_file.txt')"
   ]
  },
  {
   "cell_type": "code",
   "execution_count": null,
   "id": "bbf25471",
   "metadata": {},
   "outputs": [],
   "source": [
    "# Write some text into the file\n",
    "cat(\"Hello, World!\\n\")\n",
    "cat(\"This is a test.\\n\")\n",
    "\n",
    "# Close the file\n",
    "sink()"
   ]
  },
  {
   "cell_type": "code",
   "execution_count": null,
   "id": "fb4b8572",
   "metadata": {},
   "outputs": [],
   "source": [
    "# Reading CSV Files\n",
    "\n",
    "# Create a simple CSV dataset\n",
    "data <- data.frame(\n",
    "  Name = c(\"Alice\", \"Bob\", \"Charlie\"),\n",
    "  Age = c(25, 30, 22)\n",
    ")"
   ]
  },
  {
   "cell_type": "code",
   "execution_count": null,
   "id": "110dc263",
   "metadata": {},
   "outputs": [],
   "source": [
    "# Write the dataset to a CSV file\n",
    "write.csv(data, file = 'my_data.csv', row.names = FALSE)"
   ]
  },
  {
   "cell_type": "code",
   "execution_count": null,
   "id": "864db94e",
   "metadata": {},
   "outputs": [],
   "source": [
    "# Read data from the CSV file\n",
    "read_data <- read.csv(file = 'my_data.csv', header = TRUE)\n",
    "\n",
    "# Display the read data\n",
    "print(\"Data read from CSV file:\")\n",
    "print(read_data)"
   ]
  },
  {
   "cell_type": "code",
   "execution_count": null,
   "id": "a62a46f6",
   "metadata": {},
   "outputs": [],
   "source": [
    "# Saving and Loading Objects\n",
    "\n",
    "# Create some sample data\n",
    "numbers <- c(1:10)\n",
    "text <- \"Hello, R!\"\n",
    "\n",
    "# Save the data to an RData file  # THIS CAN ONLY BE READ BY R supported softwares\n",
    "save(numbers, text, file = 'my_data.RData')\n",
    "\n",
    "# Clear the workspace to simulate a fresh session\n",
    "rm(list = ls())\n",
    "\n",
    "# Load data from the RData file\n",
    "load('my_data.RData')\n",
    "\n",
    "# Display the loaded objects\n",
    "print(\"Data loaded from RData file:\")\n",
    "print(numbers)\n",
    "print(text)"
   ]
  }
 ],
 "metadata": {
  "kernelspec": {
   "display_name": "R",
   "language": "R",
   "name": "ir"
  },
  "language_info": {
   "codemirror_mode": "r",
   "file_extension": ".r",
   "mimetype": "text/x-r-source",
   "name": "R",
   "pygments_lexer": "r",
   "version": "3.6.1"
  }
 },
 "nbformat": 4,
 "nbformat_minor": 5
}
