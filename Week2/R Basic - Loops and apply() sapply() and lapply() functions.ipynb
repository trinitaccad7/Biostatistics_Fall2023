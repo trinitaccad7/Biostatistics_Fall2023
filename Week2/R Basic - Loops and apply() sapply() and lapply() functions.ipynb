{
 "cells": [
  {
   "cell_type": "markdown",
   "id": "b769c469",
   "metadata": {},
   "source": [
    "# <center> R - `Loops` and `'apply()'`, `'lapply() and sapply()'` functions </center>"
   ]
  },
  {
   "cell_type": "markdown",
   "id": "ea94a4eb",
   "metadata": {},
   "source": [
    "#### <font color=navy>`cat()` command - used in looping to efficiently print each loop cycle - 'cat' means `concatenate and print`</font>"
   ]
  },
  {
   "cell_type": "code",
   "execution_count": 1,
   "id": "b0a5ec52",
   "metadata": {},
   "outputs": [
    {
     "name": "stdout",
     "output_type": "stream",
     "text": [
      "The length of x_vec is  5 \n",
      "i = 1 total = 1 \n",
      "i = 2 total = 3 \n",
      "i = 3 total = 6 \n",
      "i = 4 total = 10 \n",
      "i = 5 total = 15 \n"
     ]
    }
   ],
   "source": [
    "## Example Loop\n",
    "\n",
    "x_vec = c(1:5)  # This is our vector/list to loop\n",
    "length_x_vec = length(x_vec)\n",
    "cat(\"The length of x_vec is \", length_x_vec, \"\\n\")\n",
    "\n",
    "total = 0;\n",
    "for (i in x_vec){\n",
    "    total = total + i;  # For every total varible, it gets added every i in the vector\n",
    "    ## print to check value at each loop, \"\\n\" terminates line\n",
    "    cat(\"i =\", i, \"total =\", total, \"\\n\");\n",
    "} \n",
    "\n",
    "## Notice that semicolons are important, it separates the command lines same as in BASH Unix terminal\n",
    "## See that the length of the vector is 5, so it looped 5 times."
   ]
  },
  {
   "cell_type": "code",
   "execution_count": 2,
   "id": "56735741",
   "metadata": {},
   "outputs": [
    {
     "name": "stdout",
     "output_type": "stream",
     "text": [
      "i = 1 \n",
      "i = 2 \n",
      "i = 3 \n",
      "i = 4 \n",
      "i = 5 \n"
     ]
    }
   ],
   "source": [
    "## Example of While Loop\n",
    "\n",
    "i = 0;\n",
    "while(i < 5){\n",
    "    i = i + 1; ## This means for every successful loop, we add by 1\n",
    "    cat(\"i =\", i, \"\\n\")\n",
    "}"
   ]
  },
  {
   "cell_type": "code",
   "execution_count": 3,
   "id": "97d58db0",
   "metadata": {},
   "outputs": [],
   "source": [
    "?break  ## To see examples of If-conditionals, while and For loops"
   ]
  },
  {
   "cell_type": "markdown",
   "id": "43d5e802",
   "metadata": {},
   "source": [
    "# <font color=red>NOTE: AVOID using loops, instead R prefers \"implicit looping\" where looping is done internally.</font>"
   ]
  },
  {
   "cell_type": "code",
   "execution_count": 4,
   "id": "1a975101",
   "metadata": {},
   "outputs": [
    {
     "data": {
      "text/html": [
       "<ol class=list-inline>\n",
       "\t<li>2</li>\n",
       "\t<li>4</li>\n",
       "\t<li>6</li>\n",
       "\t<li>8</li>\n",
       "\t<li>10</li>\n",
       "</ol>\n"
      ],
      "text/latex": [
       "\\begin{enumerate*}\n",
       "\\item 2\n",
       "\\item 4\n",
       "\\item 6\n",
       "\\item 8\n",
       "\\item 10\n",
       "\\end{enumerate*}\n"
      ],
      "text/markdown": [
       "1. 2\n",
       "2. 4\n",
       "3. 6\n",
       "4. 8\n",
       "5. 10\n",
       "\n",
       "\n"
      ],
      "text/plain": [
       "[1]  2  4  6  8 10"
      ]
     },
     "metadata": {},
     "output_type": "display_data"
    },
    {
     "data": {
      "text/html": [
       "<ol class=list-inline>\n",
       "\t<li>2</li>\n",
       "\t<li>4</li>\n",
       "\t<li>6</li>\n",
       "\t<li>8</li>\n",
       "\t<li>10</li>\n",
       "</ol>\n"
      ],
      "text/latex": [
       "\\begin{enumerate*}\n",
       "\\item 2\n",
       "\\item 4\n",
       "\\item 6\n",
       "\\item 8\n",
       "\\item 10\n",
       "\\end{enumerate*}\n"
      ],
      "text/markdown": [
       "1. 2\n",
       "2. 4\n",
       "3. 6\n",
       "4. 8\n",
       "5. 10\n",
       "\n",
       "\n"
      ],
      "text/plain": [
       "[1]  2  4  6  8 10"
      ]
     },
     "metadata": {},
     "output_type": "display_data"
    }
   ],
   "source": [
    "## Example:\n",
    "\n",
    "x_vec = c(1:5)   # Define a vector\n",
    "x_vec_by2 = 2*x_vec  # Multiplies each element in the vector by 2\n",
    "x_vec_by2\n",
    "\n",
    "x_vec_byself = x_vec + x_vec  # Add each element to itself\n",
    "x_vec_byself\n",
    "\n"
   ]
  },
  {
   "cell_type": "code",
   "execution_count": 5,
   "id": "0a9f28e3",
   "metadata": {},
   "outputs": [
    {
     "name": "stdout",
     "output_type": "stream",
     "text": [
      "sum =  5e+13 \n"
     ]
    }
   ],
   "source": [
    "## Try out the following by using a command versus looping:\n",
    "\n",
    "x_vec = c(1:10000000);   # Define a vector\n",
    "\n",
    "# Using the sum() command\n",
    "total_1 = sum(x_vec); cat(\"sum = \", total_1, '\\n')\n"
   ]
  },
  {
   "cell_type": "raw",
   "id": "60db3766",
   "metadata": {},
   "source": [
    "# DO NOT RUN THIS!!! THIS WILL TAKE FOREVER \n",
    "\n",
    "# Using a loop\n",
    "total_2 = 0;\n",
    "for(i in x_vec){\n",
    "    total_2 = total_2 + i;\n",
    "    cat(\"sum = \", total_2, '\\n')\n",
    "}"
   ]
  },
  {
   "cell_type": "markdown",
   "id": "43a71a68",
   "metadata": {},
   "source": [
    " "
   ]
  },
  {
   "cell_type": "markdown",
   "id": "b5de5669",
   "metadata": {},
   "source": [
    " "
   ]
  },
  {
   "cell_type": "markdown",
   "id": "67647e58",
   "metadata": {},
   "source": [
    "### The main purpose of using the apply(), sapply(), and lapply() functions in R \n",
    "- is to apply a given function to elements of a list, matrix, or data frame. \n",
    "- These functions are useful for performing operations on data structures in a more efficient and concise manner compared to using explicit loops. \n",
    "\n",
    "#### Here's an overview of their main purposes:\n",
    "- `apply()` Function:\n",
    "    - Purpose: apply() is used primarily for applying a function `to the rows or columns of a matrix or an array`. \n",
    "    - Typical Use Cases: You use apply() <font color=green>when you have a 2-dimensional data structure (matrix or array)</font> and you want to perform a specific operation on each row or column. \n",
    "    - Returns: A matrix or array, depending on the dimension specified.\n",
    "- `sapply()` Function: - `simplification`\n",
    "    - Purpose: sapply() is used to `simplify the result` of applying a function `to each element of a list, vector, or data frame`. <font color=red>It returns a simplified vector or list whenever possible</font>.\n",
    "    - Typical Use Cases: You use sapply() `when you have a list-like object` and you want to `apply a function element-wise` and obtain a simplified result.\n",
    "    - Returns: A vector or list, with the class determined by the function and the input data structure.\n",
    "- `lapply()` Function: - `list structures only`\n",
    "    - Purpose: lapply() is used to apply a function `to each element of a list and returns the results as a list`. <font color=red>It's often used when you want to maintain the list structure</font>.\n",
    "    - Typical Use Cases: You use lapply() when you have a list and you want to apply a function to each element individually, possibly returning a list of results.\n",
    "    - Returns: A list, where each element corresponds to the result of applying the function to each element of the input list."
   ]
  },
  {
   "cell_type": "markdown",
   "id": "6d86a8fc",
   "metadata": {},
   "source": [
    "# <center><font color=blue>Using `apply()` and its variant functions to Avoid Loops</font></center>"
   ]
  },
  {
   "cell_type": "code",
   "execution_count": 6,
   "id": "13f1b04e",
   "metadata": {},
   "outputs": [],
   "source": [
    "# Apply Functions Over Array Margins\n",
    "?apply"
   ]
  },
  {
   "cell_type": "code",
   "execution_count": 7,
   "id": "d5d7c5fc",
   "metadata": {},
   "outputs": [
    {
     "data": {
      "text/html": [
       "<table>\n",
       "<thead><tr><th></th><th scope=col>c1</th><th scope=col>c2</th><th scope=col>c3</th><th scope=col>c4</th></tr></thead>\n",
       "<tbody>\n",
       "\t<tr><th scope=row>r1</th><td>1</td><td>1</td><td>1</td><td>1</td></tr>\n",
       "\t<tr><th scope=row>r2</th><td>2</td><td>2</td><td>2</td><td>2</td></tr>\n",
       "\t<tr><th scope=row>r3</th><td>3</td><td>3</td><td>3</td><td>3</td></tr>\n",
       "\t<tr><th scope=row>r4</th><td>4</td><td>4</td><td>4</td><td>4</td></tr>\n",
       "</tbody>\n",
       "</table>\n"
      ],
      "text/latex": [
       "\\begin{tabular}{r|llll}\n",
       "  & c1 & c2 & c3 & c4\\\\\n",
       "\\hline\n",
       "\tr1 & 1 & 1 & 1 & 1\\\\\n",
       "\tr2 & 2 & 2 & 2 & 2\\\\\n",
       "\tr3 & 3 & 3 & 3 & 3\\\\\n",
       "\tr4 & 4 & 4 & 4 & 4\\\\\n",
       "\\end{tabular}\n"
      ],
      "text/markdown": [
       "\n",
       "| <!--/--> | c1 | c2 | c3 | c4 |\n",
       "|---|---|---|---|---|\n",
       "| r1 | 1 | 1 | 1 | 1 |\n",
       "| r2 | 2 | 2 | 2 | 2 |\n",
       "| r3 | 3 | 3 | 3 | 3 |\n",
       "| r4 | 4 | 4 | 4 | 4 |\n",
       "\n"
      ],
      "text/plain": [
       "   c1 c2 c3 c4\n",
       "r1 1  1  1  1 \n",
       "r2 2  2  2  2 \n",
       "r3 3  3  3  3 \n",
       "r4 4  4  4  4 "
      ]
     },
     "metadata": {},
     "output_type": "display_data"
    }
   ],
   "source": [
    "# Let's build a matrix:\n",
    "\n",
    "sq = c(1:4)\n",
    "mat = cbind(sq,sq,sq,sq)\n",
    "colnames(mat) = c(\"c1\",\"c2\",\"c3\",\"c4\")\n",
    "rownames(mat) = c(\"r1\",\"r2\",\"r3\",\"r4\")\n",
    "mat"
   ]
  },
  {
   "cell_type": "code",
   "execution_count": 8,
   "id": "559d748d",
   "metadata": {
    "scrolled": true
   },
   "outputs": [
    {
     "data": {
      "text/html": [
       "<dl class=dl-horizontal>\n",
       "\t<dt>r1</dt>\n",
       "\t\t<dd>4</dd>\n",
       "\t<dt>r2</dt>\n",
       "\t\t<dd>8</dd>\n",
       "\t<dt>r3</dt>\n",
       "\t\t<dd>12</dd>\n",
       "\t<dt>r4</dt>\n",
       "\t\t<dd>16</dd>\n",
       "</dl>\n"
      ],
      "text/latex": [
       "\\begin{description*}\n",
       "\\item[r1] 4\n",
       "\\item[r2] 8\n",
       "\\item[r3] 12\n",
       "\\item[r4] 16\n",
       "\\end{description*}\n"
      ],
      "text/markdown": [
       "r1\n",
       ":   4r2\n",
       ":   8r3\n",
       ":   12r4\n",
       ":   16\n",
       "\n"
      ],
      "text/plain": [
       "r1 r2 r3 r4 \n",
       " 4  8 12 16 "
      ]
     },
     "metadata": {},
     "output_type": "display_data"
    },
    {
     "data": {
      "text/html": [
       "<dl class=dl-horizontal>\n",
       "\t<dt>c1</dt>\n",
       "\t\t<dd>10</dd>\n",
       "\t<dt>c2</dt>\n",
       "\t\t<dd>10</dd>\n",
       "\t<dt>c3</dt>\n",
       "\t\t<dd>10</dd>\n",
       "\t<dt>c4</dt>\n",
       "\t\t<dd>10</dd>\n",
       "</dl>\n"
      ],
      "text/latex": [
       "\\begin{description*}\n",
       "\\item[c1] 10\n",
       "\\item[c2] 10\n",
       "\\item[c3] 10\n",
       "\\item[c4] 10\n",
       "\\end{description*}\n"
      ],
      "text/markdown": [
       "c1\n",
       ":   10c2\n",
       ":   10c3\n",
       ":   10c4\n",
       ":   10\n",
       "\n"
      ],
      "text/plain": [
       "c1 c2 c3 c4 \n",
       "10 10 10 10 "
      ]
     },
     "metadata": {},
     "output_type": "display_data"
    },
    {
     "name": "stdout",
     "output_type": "stream",
     "text": [
      "[1] 4\n",
      "[1] 8\n",
      "[1] 12\n",
      "[1] 16\n"
     ]
    }
   ],
   "source": [
    "# Initiate using apply(matrix_name,row/column,arithmetic_function) function command\n",
    "\n",
    "sum_row = apply(mat,1,sum)  # This means to apply the sum() function to each row in the matrix\n",
    "sum_row\n",
    "\n",
    "sum_col = apply(mat,2,sum)  # This means to apply the sum() function to each column in the matrix\n",
    "sum_col\n",
    "\n",
    "## Notice: The second input in the apply() function is either 1 = meaning rows, 2 = meaning columns\n",
    "## Notice: The output from the apply() function is a list! \n",
    "\n",
    "# Prove that it is a list by looping,\n",
    "for(i in sum_row){\n",
    "    print(i)\n",
    "}"
   ]
  },
  {
   "cell_type": "markdown",
   "id": "13075d18",
   "metadata": {},
   "source": [
    "## <font color=red>`Important:` If we don't have the function within the built-in, we have to `create a function` then apply it in the apply() function.</font>"
   ]
  },
  {
   "cell_type": "markdown",
   "id": "8341882c",
   "metadata": {},
   "source": [
    " "
   ]
  },
  {
   "cell_type": "markdown",
   "id": "e8bbe0db",
   "metadata": {},
   "source": [
    "### <font color=navy>`'lapply(matrix,function)'`  - Returns a list, and takes a list as input</font>"
   ]
  },
  {
   "cell_type": "code",
   "execution_count": 9,
   "id": "7eb74336",
   "metadata": {},
   "outputs": [
    {
     "data": {
      "text/html": [
       "<ol>\n",
       "\t<li>1</li>\n",
       "\t<li>2</li>\n",
       "\t<li>3</li>\n",
       "\t<li>4</li>\n",
       "\t<li>1</li>\n",
       "\t<li>2</li>\n",
       "\t<li>3</li>\n",
       "\t<li>4</li>\n",
       "\t<li>1</li>\n",
       "\t<li>2</li>\n",
       "\t<li>3</li>\n",
       "\t<li>4</li>\n",
       "\t<li>1</li>\n",
       "\t<li>2</li>\n",
       "\t<li>3</li>\n",
       "\t<li>4</li>\n",
       "</ol>\n"
      ],
      "text/latex": [
       "\\begin{enumerate}\n",
       "\\item 1\n",
       "\\item 2\n",
       "\\item 3\n",
       "\\item 4\n",
       "\\item 1\n",
       "\\item 2\n",
       "\\item 3\n",
       "\\item 4\n",
       "\\item 1\n",
       "\\item 2\n",
       "\\item 3\n",
       "\\item 4\n",
       "\\item 1\n",
       "\\item 2\n",
       "\\item 3\n",
       "\\item 4\n",
       "\\end{enumerate}\n"
      ],
      "text/markdown": [
       "1. 1\n",
       "2. 2\n",
       "3. 3\n",
       "4. 4\n",
       "5. 1\n",
       "6. 2\n",
       "7. 3\n",
       "8. 4\n",
       "9. 1\n",
       "10. 2\n",
       "11. 3\n",
       "12. 4\n",
       "13. 1\n",
       "14. 2\n",
       "15. 3\n",
       "16. 4\n",
       "\n",
       "\n"
      ],
      "text/plain": [
       "[[1]]\n",
       "[1] 1\n",
       "\n",
       "[[2]]\n",
       "[1] 2\n",
       "\n",
       "[[3]]\n",
       "[1] 3\n",
       "\n",
       "[[4]]\n",
       "[1] 4\n",
       "\n",
       "[[5]]\n",
       "[1] 1\n",
       "\n",
       "[[6]]\n",
       "[1] 2\n",
       "\n",
       "[[7]]\n",
       "[1] 3\n",
       "\n",
       "[[8]]\n",
       "[1] 4\n",
       "\n",
       "[[9]]\n",
       "[1] 1\n",
       "\n",
       "[[10]]\n",
       "[1] 2\n",
       "\n",
       "[[11]]\n",
       "[1] 3\n",
       "\n",
       "[[12]]\n",
       "[1] 4\n",
       "\n",
       "[[13]]\n",
       "[1] 1\n",
       "\n",
       "[[14]]\n",
       "[1] 2\n",
       "\n",
       "[[15]]\n",
       "[1] 3\n",
       "\n",
       "[[16]]\n",
       "[1] 4\n"
      ]
     },
     "metadata": {},
     "output_type": "display_data"
    },
    {
     "data": {
      "text/html": [
       "10"
      ],
      "text/latex": [
       "10"
      ],
      "text/markdown": [
       "10"
      ],
      "text/plain": [
       "[1] 10"
      ]
     },
     "metadata": {},
     "output_type": "display_data"
    },
    {
     "data": {
      "text/html": [
       "4"
      ],
      "text/latex": [
       "4"
      ],
      "text/markdown": [
       "4"
      ],
      "text/plain": [
       "[1] 4"
      ]
     },
     "metadata": {},
     "output_type": "display_data"
    },
    {
     "data": {
      "text/html": [
       "'list'"
      ],
      "text/latex": [
       "'list'"
      ],
      "text/markdown": [
       "'list'"
      ],
      "text/plain": [
       "[1] \"list\""
      ]
     },
     "metadata": {},
     "output_type": "display_data"
    }
   ],
   "source": [
    "## Try it out\n",
    "lapply(mat,sum)\n",
    "\n",
    "# Returns sum for each column in the matrix\n",
    "lap = lapply(data.frame(mat),sum)\n",
    "lap$c1  # This returns the sum of the called column name in the lap list.\n",
    "length(lap)\n",
    "class(lap)\n"
   ]
  },
  {
   "cell_type": "markdown",
   "id": "ebfc0614",
   "metadata": {},
   "source": [
    "### <font color=navy>`'sapply(data.frame(matrix),function)'`  - the matrix is converted as a dataframe type, similar to an .csv table file</font>"
   ]
  },
  {
   "cell_type": "code",
   "execution_count": 10,
   "id": "4c8ee992",
   "metadata": {},
   "outputs": [
    {
     "data": {
      "text/html": [
       "'integer'"
      ],
      "text/latex": [
       "'integer'"
      ],
      "text/markdown": [
       "'integer'"
      ],
      "text/plain": [
       "[1] \"integer\""
      ]
     },
     "metadata": {},
     "output_type": "display_data"
    },
    {
     "data": {
      "text/html": [
       "<dl class=dl-horizontal>\n",
       "\t<dt>c1</dt>\n",
       "\t\t<dd>10</dd>\n",
       "\t<dt>c2</dt>\n",
       "\t\t<dd>10</dd>\n",
       "\t<dt>c3</dt>\n",
       "\t\t<dd>10</dd>\n",
       "\t<dt>c4</dt>\n",
       "\t\t<dd>10</dd>\n",
       "</dl>\n"
      ],
      "text/latex": [
       "\\begin{description*}\n",
       "\\item[c1] 10\n",
       "\\item[c2] 10\n",
       "\\item[c3] 10\n",
       "\\item[c4] 10\n",
       "\\end{description*}\n"
      ],
      "text/markdown": [
       "c1\n",
       ":   10c2\n",
       ":   10c3\n",
       ":   10c4\n",
       ":   10\n",
       "\n"
      ],
      "text/plain": [
       "c1 c2 c3 c4 \n",
       "10 10 10 10 "
      ]
     },
     "metadata": {},
     "output_type": "display_data"
    }
   ],
   "source": [
    "sap = sapply(data.frame(mat),sum)\n",
    "class(sap)\n",
    "sap"
   ]
  },
  {
   "cell_type": "code",
   "execution_count": 11,
   "id": "52c5d8f8",
   "metadata": {},
   "outputs": [
    {
     "data": {
      "text/html": [
       "<dl class=dl-horizontal>\n",
       "\t<dt>HA</dt>\n",
       "\t\t<dd>'ha'</dd>\n",
       "\t<dt>HO</dt>\n",
       "\t\t<dd>'ho'</dd>\n",
       "\t<dt>HI</dt>\n",
       "\t\t<dd>'hi'</dd>\n",
       "</dl>\n"
      ],
      "text/latex": [
       "\\begin{description*}\n",
       "\\item[HA] 'ha'\n",
       "\\item[HO] 'ho'\n",
       "\\item[HI] 'hi'\n",
       "\\end{description*}\n"
      ],
      "text/markdown": [
       "HA\n",
       ":   'ha'HO\n",
       ":   'ho'HI\n",
       ":   'hi'\n",
       "\n"
      ],
      "text/plain": [
       "  HA   HO   HI \n",
       "\"ha\" \"ho\" \"hi\" "
      ]
     },
     "metadata": {},
     "output_type": "display_data"
    },
    {
     "data": {
      "text/html": [
       "<ol>\n",
       "\t<li>'ha'</li>\n",
       "</ol>\n"
      ],
      "text/latex": [
       "\\begin{enumerate}\n",
       "\\item 'ha'\n",
       "\\end{enumerate}\n"
      ],
      "text/markdown": [
       "1. 'ha'\n",
       "\n",
       "\n"
      ],
      "text/plain": [
       "[[1]]\n",
       "[1] \"ha\"\n"
      ]
     },
     "metadata": {},
     "output_type": "display_data"
    }
   ],
   "source": [
    "## More examples of other functions to be applied using apply() function command\n",
    "\n",
    "v = c(\"HA\",\"HO\",\"HI\");\n",
    "# Make the vectors lower case\n",
    "vap = sapply(v,tolower)\n",
    "vap\n",
    "\n",
    "lap = lapply(v,tolower)\n",
    "lap[1] # Call the first element in the vector\n"
   ]
  },
  {
   "cell_type": "code",
   "execution_count": null,
   "id": "7837b7e8",
   "metadata": {},
   "outputs": [],
   "source": []
  }
 ],
 "metadata": {
  "kernelspec": {
   "display_name": "R",
   "language": "R",
   "name": "ir"
  },
  "language_info": {
   "codemirror_mode": "r",
   "file_extension": ".r",
   "mimetype": "text/x-r-source",
   "name": "R",
   "pygments_lexer": "r",
   "version": "3.6.1"
  }
 },
 "nbformat": 4,
 "nbformat_minor": 5
}
